{
 "cells": [
  {
   "cell_type": "code",
   "execution_count": 3,
   "metadata": {},
   "outputs": [],
   "source": [
    "import sys\n",
    "import os\n",
    "\n",
    "# Menambahkan path ke folder 'modelling'\n",
    "sys.path.append(os.path.abspath('../modelling'))\n",
    "\n",
    "# Mengimpor fungsi runModel dari FraudModel.py\n",
    "from FraudModel import runModel\n"
   ]
  },
  {
   "cell_type": "code",
   "execution_count": 5,
   "metadata": {},
   "outputs": [],
   "source": [
    "# parameter inputan data\n",
    "new_data = {\n",
    "    'step': 1,\n",
    "    'type': 'PAYMENT',\n",
    "    'amount': 9839.64,\n",
    "    'oldbalanceOrg': 170136.0,\n",
    "    'newbalanceOrig': 160296.36,\n",
    "    'oldbalanceDest': 0.0,\n",
    "    'newbalanceDest': 0.0\n",
    "}"
   ]
  },
  {
   "cell_type": "code",
   "execution_count": 6,
   "metadata": {},
   "outputs": [
    {
     "name": "stdout",
     "output_type": "stream",
     "text": [
      "1.3.0\n"
     ]
    }
   ],
   "source": [
    "import sklearn\n",
    "print(sklearn.__version__)\n"
   ]
  },
  {
   "cell_type": "code",
   "execution_count": 7,
   "metadata": {},
   "outputs": [
    {
     "name": "stdout",
     "output_type": "stream",
     "text": [
      "Prediction: White List\n"
     ]
    }
   ],
   "source": [
    "# Mengatur path untuk file pickle\n",
    "path = os.path.abspath('../modelling')\n",
    "\n",
    "# Jalankan model\n",
    "prediction = runModel(new_data, path)\n",
    "print(f\"Prediction: {prediction}\")"
   ]
  }
 ],
 "metadata": {
  "kernelspec": {
   "display_name": "Python 3",
   "language": "python",
   "name": "python3"
  },
  "language_info": {
   "codemirror_mode": {
    "name": "ipython",
    "version": 3
   },
   "file_extension": ".py",
   "mimetype": "text/x-python",
   "name": "python",
   "nbconvert_exporter": "python",
   "pygments_lexer": "ipython3",
   "version": "3.10.5"
  }
 },
 "nbformat": 4,
 "nbformat_minor": 2
}
